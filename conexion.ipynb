{
 "cells": [
  {
   "cell_type": "code",
   "execution_count": null,
   "metadata": {},
   "outputs": [],
   "source": [
    "from snowflake.snowpark import Session\n",
    "import snowflake.snowpark.functions as f\n",
    "from snowflake.snowpark.functions import col,lit,min,max,avg,stddev,median,count,builtin,parse_json,udf\n",
    "from snowflake.snowpark import DataFrame\n",
    "from credenciales import connection_parameters\n",
    "\n",
    "import os\n",
    "from dotenv import load_dotenv,find_dotenv\n",
    "load_dotenv(find_dotenv())"
   ]
  },
  {
   "cell_type": "markdown",
   "metadata": {},
   "source": [
    "<a id=\"snowpark_architecture\"></a>\n",
    "### 1.1 Arquitectura Snowpark \n",
    "\n",
    "<img src=\"./images/SnowparkFlowOverviewPython.png\" alt=\"Snowpark Flow Overview\" style=\"width:80%;display:block;margin-left:5%;\" />"
   ]
  },
  {
   "cell_type": "markdown",
   "metadata": {},
   "source": [
    "<a id=\"snowpark_conn\"></a>\n",
    "## 2. Conexión Snowflake"
   ]
  },
  {
   "cell_type": "code",
   "execution_count": null,
   "metadata": {},
   "outputs": [],
   "source": [
    "sesion = Session.builder.configs(connection_parameters).create()\n",
    "if sesion is not None:\n",
    "    print('Conexión OK')\n",
    "    print('ACCOUNT: ' + sesion.get_current_account())\n",
    "    print('WAREHOUSE: ' + sesion.get_current_warehouse())\n",
    "    print('DATABASE: ' + sesion.get_current_database())\n",
    "    print('SCHEMA: ' + sesion.get_current_schema())\n",
    "    print('ROLE: ' + sesion.get_current_role())\n",
    "else:\n",
    "    print(\"Error de conexión!\")\n",
    "    "
   ]
  },
  {
   "cell_type": "markdown",
   "metadata": {},
   "source": [
    "<a id=\"snowpark_dataframe\"></a>\n",
    "## 3. Snowpark DataFrame\n",
    "\n",
    "<img src=\"./images/AnatomyOfADataFrame.png\" alt=\"Snowpark DataFrame\" style=\"width:70%;display:block;margin-left:10%;\" />"
   ]
  },
  {
   "cell_type": "markdown",
   "metadata": {},
   "source": [
    "<a id=\"snowpark_load\"></a>\n",
    "## 4. Cargar Data Estrcuturada"
   ]
  },
  {
   "cell_type": "code",
   "execution_count": null,
   "metadata": {},
   "outputs": [],
   "source": [
    "q1 = 'CREATE STAGE IF NOT EXISTS ' + os.environ['stage'] + ' DIRECTORY = ( ENABLE = true )'\n",
    "\n",
    "q2 =''' \n",
    "            CREATE or replace FILE FORMAT CSV\n",
    "            TYPE=\\'CSV\\' \n",
    "            COMPRESSION=\\'AUTO\\' \n",
    "            FIELD_DELIMITER=\\',\\' \n",
    "            RECORD_DELIMITER='\\\\n\\'\n",
    "            SKIP_HEADER=1\n",
    "            FIELD_OPTIONALLY_ENCLOSED_BY='\\\\042\\'\n",
    "            TRIM_SPACE=FALSE\n",
    "            ERROR_ON_COLUMN_COUNT_MISMATCH=FALSE\n",
    "            ESCAPE=\\'NONE\\'\n",
    "            ESCAPE_UNENCLOSED_FIELD='\\\\134\\'\n",
    "            DATE_FORMAT=\\'AUTO'\\\n",
    "            TIMESTAMP_FORMAT=\\'AUTO\\'\n",
    "            NULL_IF=(\\'\\')\n",
    "            COMMENT=\\'CSV File Format SNOWPARK\\'\n",
    "            '''\n",
    "\n",
    "resp1 = sesion.sql(q1)\n",
    "print(resp1.show())\n",
    "resp2 = sesion.sql(q2)\n",
    "print(resp2.show())\n",
    "\n"
   ]
  },
  {
   "cell_type": "code",
   "execution_count": null,
   "metadata": {},
   "outputs": [],
   "source": [
    "#load Data en tabla\n",
    "ruta_csv = os.path.join(os.getcwd(),'orders.csv')   \n",
    "put_resultado = sesion.file.put(ruta_csv, '@'+os.environ['stage'], auto_compress=False)\n",
    "print(put_resultado[0].status + ': size: ' + str(put_resultado[0].target_size))\n"
   ]
  },
  {
   "cell_type": "code",
   "execution_count": null,
   "metadata": {},
   "outputs": [],
   "source": [
    "q3 = 'COPY INTO ' + os.environ['tabla1'] +' FROM @'+os.environ['stage'] + ' file_format=CSV'\n",
    "resp3 = sesion.sql(q3)\n"
   ]
  },
  {
   "cell_type": "code",
   "execution_count": null,
   "metadata": {},
   "outputs": [],
   "source": [
    "df = sesion.table(os.environ['tabla1']);\n",
    "df.show(5);"
   ]
  },
  {
   "cell_type": "markdown",
   "metadata": {},
   "source": [
    "<a id=\"snowpark_select1\"></a>\n",
    "## 4. Funciones "
   ]
  },
  {
   "cell_type": "code",
   "execution_count": null,
   "metadata": {},
   "outputs": [],
   "source": [
    "#Selección de Columas\n",
    "df.select(col(\"IP_ADDRESS\"),col(\"CITY\")).show(5)"
   ]
  },
  {
   "cell_type": "code",
   "execution_count": null,
   "metadata": {},
   "outputs": [],
   "source": [
    "#Agregar columna\n",
    "new_df = (df\n",
    "    .with_column(\"bool\", lit(False))\n",
    ").show(5)         "
   ]
  },
  {
   "cell_type": "code",
   "execution_count": null,
   "metadata": {},
   "outputs": [],
   "source": [
    "#Ordenamiento\n",
    "df.sort(col(\"SHIPPING_ZIPCODE\").asc()).show()"
   ]
  },
  {
   "cell_type": "code",
   "execution_count": null,
   "metadata": {},
   "outputs": [],
   "source": [
    "#Agregados funcionales \n",
    "cinco_registros = (df\n",
    "    .limit(5)\n",
    "    .cache_result()\n",
    ")          \n",
    "\n",
    "print(\"Nuestra data:\")\n",
    "cinco_registros.show()"
   ]
  },
  {
   "cell_type": "code",
   "execution_count": null,
   "metadata": {},
   "outputs": [],
   "source": [
    "#Promedio\n",
    "cinco_registros.agg(avg(col(\"TOTAL_TRNX_AMOUNT\"))).show()"
   ]
  },
  {
   "cell_type": "code",
   "execution_count": null,
   "metadata": {},
   "outputs": [],
   "source": [
    "#Promedio, Máximo, Mínimo\n",
    "cinco_registros.agg(\n",
    "      [\n",
    "         avg(col(\"TOTAL_TRNX_AMOUNT\"))\n",
    "        ,stddev(col(\"TOTAL_TRNX_AMOUNT\"))\n",
    "        ,max(col(\"TOTAL_TRNX_AMOUNT\"))\n",
    "       ]\n",
    "     ).show()"
   ]
  },
  {
   "cell_type": "code",
   "execution_count": null,
   "metadata": {},
   "outputs": [],
   "source": [
    "#Renombrar y ejecutar casting\n",
    "from snowflake.snowpark.types import DecimalType,DoubleType\n",
    "\n",
    "cinco_registros.agg(\n",
    "         {\n",
    "          \"JOIN_KEY\" : \"avg\"\n",
    "          ,\"TOTAL_TRNX_AMOUNT\" :\"stddev\"\n",
    "          ,\"SHIPPING_ZIPCODE\" : \"max\"\n",
    "        }\n",
    "      ).select(\n",
    "         col(\"$1\").cast(DecimalType(38,4)).alias(\"Promedio de Transaccion\"),\n",
    "         col(\"$2\").cast(DecimalType(10,5)).alias(\"Desviación Estandard\"),\n",
    "         col(\"$3\").cast(DoubleType()).alias(\"Max ZIP Code\")).show()\n"
   ]
  },
  {
   "cell_type": "code",
   "execution_count": null,
   "metadata": {},
   "outputs": [],
   "source": [
    "#Agrupación\n",
    "df.group_by(col(\"SHIPPING_ZIPCODE\")).agg(                            # Produces a DataFrame\n",
    "        [ count(\"*\").alias(\"Cantidad\")\n",
    "         ,avg(col(\"TOTAL_TRNX_AMOUNT\")).alias(\"Promedio\")\n",
    "        ]\n",
    "      ).show(5)\n",
    "                  "
   ]
  },
  {
   "cell_type": "markdown",
   "metadata": {},
   "source": [
    "<a id=\"snowpark_semi\"></a>\n",
    "## 5. Data Semi-Estructurada "
   ]
  },
  {
   "cell_type": "code",
   "execution_count": null,
   "metadata": {},
   "outputs": [],
   "source": [
    "json_array_string = (\n",
    "\"\"\"{\n",
    "\"castaways\" : [\n",
    "  { \"id\" : 1, \"Name\" : \"Willy Gilligan\", \"title\" : \"Little Buddy\", \"hut-mate\" : 2 },\n",
    "  { \"id\" : 2, \"Name\" : \"Jonas Grumby\", \"title\" : \"Skipper\", \"hut-mate\" : 1  },\n",
    "  { \"id\" : 3, \"Name\" : \"Thurston Howell, III\", \"title\" : \"The Millionaire\", \"hut-mate\" : 4 },\n",
    "  { \"id\" : 4, \"Name\" : \"Lovey Howell\", \"title\" : \"His Wife\", \"hut-mate\" : 3 },\n",
    "  { \"id\" : 5, \"Name\" : \"Ginger Grant\", \"title\" : \"The Movie Star\", \"hut-mate\" : 7 },\n",
    "  { \"id\" : 6, \"Name\" : \"Roy Hinkley\", \"title\" : \"The Professor\" },\n",
    "  { \"id\" : 7, \"Name\" : \"Mary Ann Summers\", \"title\" : \"The Rest\", \"hut-mate\" : 5 }        \n",
    " ]\n",
    "}\"\"\"\n",
    ")"
   ]
  },
  {
   "cell_type": "code",
   "execution_count": null,
   "metadata": {},
   "outputs": [],
   "source": [
    "castaways_df = (sesion.create_dataframe([\"\"])\n",
    "    .select(\n",
    "         parse_json(lit(json_array_string))\n",
    "        .alias(\"CASTAWAYS_MAP_WITH_ARRAY\")\n",
    "      )\n",
    ")\n",
    "\n",
    "castaways_df.show()"
   ]
  },
  {
   "cell_type": "code",
   "execution_count": null,
   "metadata": {},
   "outputs": [],
   "source": [
    "for field in castaways_df.schema.fields:\n",
    "    print(field)"
   ]
  },
  {
   "cell_type": "code",
   "execution_count": null,
   "metadata": {},
   "outputs": [],
   "source": [
    "#Traversing Nested\n",
    "castaways_df.select(\n",
    "        col(\"CASTAWAYS_MAP_WITH_ARRAY\")[\"castaways\"]\n",
    "            .alias(\"Castaways Array from Python list notation\")\n",
    "      ).show()"
   ]
  },
  {
   "cell_type": "code",
   "execution_count": null,
   "metadata": {},
   "outputs": [],
   "source": [
    "from snowflake.snowpark.types import StringType\n",
    "(castaways_df\n",
    ".select(\n",
    "          # First element (zero); Rename to \"Castaways sub zero\"\n",
    "         col(\"CASTAWAYS_MAP_WITH_ARRAY\")[\"castaways\"][0]\n",
    "            .alias(\"Castaways sub 0\")\n",
    "          # Second element (one); Rename to \"Castaways sub 1\" \n",
    "        ,col(\"CASTAWAYS_MAP_WITH_ARRAY\")[\"castaways\"][1]\n",
    "            .alias(\"Castaways sub 1\")\n",
    "        ,col(\"CASTAWAYS_MAP_WITH_ARRAY\")[\"castaways\"][1][\"title\"].cast(StringType())\n",
    "            .alias(\"Title of castaways sub 1\")\n",
    "      )\n",
    "    .show()\n",
    ")"
   ]
  },
  {
   "cell_type": "code",
   "execution_count": null,
   "metadata": {},
   "outputs": [],
   "source": [
    "#DatafaFrame Flatten\n",
    "flattened_df = (castaways_df\n",
    "    .join_table_function(\n",
    "         \"flatten\"\n",
    "        ,col(\"CASTAWAYS_MAP_WITH_ARRAY\") # input - The column containing data to flatten\n",
    "        ,lit(\"castaways\")                # path - The key of the value to be flattened\n",
    "        ,lit(False)                      # outer -  Omit zero-length entities (no elements)                     \n",
    "        ,lit(True)                       # recursive - Flatten any values that are variants\n",
    "        ,lit(\"BOTH\")                     # mode - Flatten both objects (maps) and arrays\n",
    "      )\n",
    ")\n",
    "\n",
    "for field in flattened_df.schema.fields:\n",
    "    print(field) "
   ]
  },
  {
   "cell_type": "code",
   "execution_count": null,
   "metadata": {},
   "outputs": [],
   "source": [
    "(flattened_df\n",
    "    .select(\n",
    "         col(\"KEY\")\n",
    "        ,col(\"INDEX\")\n",
    "        ,col(\"VALUE\")\n",
    "     )\n",
    "    .show()\n",
    ")"
   ]
  },
  {
   "cell_type": "markdown",
   "metadata": {},
   "source": [
    "<a id=\"snowpark_save\"></a>\n",
    "## 6. Salvar Data en Snowflake"
   ]
  },
  {
   "cell_type": "code",
   "execution_count": null,
   "metadata": {},
   "outputs": [],
   "source": [
    "desired_table_name = \"TOP_5_TBL\"\n",
    "target_db_name = sesion.get_current_database()\n",
    "target_schema_name = sesion.get_current_schema()\n",
    "context_list = ([\n",
    "         target_db_name\n",
    "        ,target_schema_name\n",
    "        ,desired_table_name\n",
    "   ]\n",
    ")    \n",
    "\n",
    "truncate_table_string = f\"TRUNCATE TABLE IF EXISTS {desired_table_name}\"\n",
    "(sesion.sql(truncate_table_string)\n",
    "    .show()\n",
    ") \n",
    "\n",
    "cinco_registros.write.mode(\"OVERWRITE\").save_as_table(context_list)\n"
   ]
  },
  {
   "cell_type": "code",
   "execution_count": null,
   "metadata": {},
   "outputs": [],
   "source": [
    "select_star_query_string = f\"SELECT * FROM {desired_table_name}\"\n",
    "print(f\"Results of {select_star_query_string} (3 rows)\")\n",
    "(sesion.sql(select_star_query_string)\n",
    "    .show(3)\n",
    ") "
   ]
  },
  {
   "cell_type": "markdown",
   "metadata": {},
   "source": [
    "<a id=\"snowpark_udf\"></a>\n",
    "## 7. UDFs"
   ]
  },
  {
   "cell_type": "code",
   "execution_count": null,
   "metadata": {},
   "outputs": [],
   "source": [
    "from snowflake.snowpark.types import DoubleType\n",
    "import math\n",
    "\n",
    "curr_db = sesion.get_current_database()\n",
    "curr_schema = sesion.get_current_schema()\n",
    "\n",
    "my_lambda_circum_udf = (\n",
    "    udf(                            \n",
    "         func = lambda radius: 2.0 * math.pi * radius\n",
    "        ,return_type = DoubleType()   \n",
    "        ,input_types = [DoubleType()] \n",
    "        ,is_permanent = False          \n",
    "#        ,stage_location = '@~'        # Ignored when is_permanent is False\n",
    "        ,replace = True               \n",
    "        ,session = sesion\n",
    "        ,name = [curr_db, curr_schema, \"LAMBDA_CIRCUMFERENCE\"]\n",
    "     ))"
   ]
  },
  {
   "cell_type": "code",
   "execution_count": null,
   "metadata": {},
   "outputs": [],
   "source": [
    "#Test UDF\n",
    "(sesion.create_dataframe([1,2,3,4,5])\n",
    "    .to_df(\"RADIUS\")\n",
    "    .with_column(\n",
    "             \"THE_CIRCUM\"\n",
    "            ,my_lambda_circum_udf(\"RADIUS\")\n",
    "     )\n",
    "    .sort(col(\"RADIUS\").asc())\n",
    "    .show() \n",
    ") "
   ]
  },
  {
   "cell_type": "markdown",
   "metadata": {},
   "source": [
    "<a id=\"snowpark_udfreg\"></a>\n",
    "## 7. Registrar UDFs"
   ]
  },
  {
   "cell_type": "code",
   "execution_count": null,
   "metadata": {},
   "outputs": [],
   "source": [
    "from snowflake.snowpark.types import DoubleType\n",
    "\n",
    "def circumference(radius) -> float:\n",
    "    return 2.0 * radius * math.pi \n",
    "\n",
    "circum_udf_temp = (sesion\n",
    "    .udf                      # An instance of UDFRegistration\n",
    "    .register(\n",
    "         func = circumference\n",
    "        ,name = \"CALCULATE_CIRCUMFERENCE_TEMP\"\n",
    "        ,return_type = DoubleType()\n",
    "        ,input_types = [DoubleType()]\n",
    "        ,is_permanent = True \n",
    "        ,stage_location = os.environ['stage']\n",
    "        ,replace = True       # Avoid errors in case we run this cell more than once\n",
    "        ,session = sesion    \n",
    "    )\n",
    ") "
   ]
  },
  {
   "cell_type": "code",
   "execution_count": null,
   "metadata": {},
   "outputs": [],
   "source": [
    "# Test  UDF via SQL\n",
    "num = 10\n",
    "select_text = f\"SELECT {num} AS NUM, CALCULATE_CIRCUMFERENCE_TEMP({num}) AS CIRCUM\"\n",
    "print(f\"Invoking our UDF via SQL:\\n{select_text}\")\n",
    "(sesion.sql(select_text)\n",
    "    .show()\n",
    ")   "
   ]
  },
  {
   "cell_type": "markdown",
   "metadata": {},
   "source": [
    "<a id=\"snowpark_close\"></a>\n",
    "## Cerrar Sesión"
   ]
  },
  {
   "cell_type": "code",
   "execution_count": null,
   "metadata": {},
   "outputs": [],
   "source": [
    "sesion.close()"
   ]
  }
 ],
 "metadata": {
  "kernelspec": {
   "display_name": "snowpark101",
   "language": "python",
   "name": "python3"
  },
  "language_info": {
   "codemirror_mode": {
    "name": "ipython",
    "version": 3
   },
   "file_extension": ".py",
   "mimetype": "text/x-python",
   "name": "python",
   "nbconvert_exporter": "python",
   "pygments_lexer": "ipython3",
   "version": "3.10.13"
  }
 },
 "nbformat": 4,
 "nbformat_minor": 2
}
