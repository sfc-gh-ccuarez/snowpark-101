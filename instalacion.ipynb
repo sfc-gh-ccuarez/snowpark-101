{
 "cells": [
  {
   "cell_type": "markdown",
   "metadata": {},
   "source": [
    "<a id=\"Setup\"></a>\n",
    "## Instalación\n",
    "\n",
    "### Anaconda\n",
    "\n",
    "- El repositorio seguro Snowflake Anaconda proporciona acceso a un conjunto de paquetes Python de código abierto en expansión activa\n",
    "- Especifique las dependencias en la declaración de UDF/procedimiento almacenado y Snowpark resolverá e instalará automáticamente los paquetes necesarios en el lado del servidor.\n",
    "\n",
    "> **&#128221; Note:** \n",
    ">  -  [Snowflake channel](https://repo.anaconda.com/pkgs/snowflake/) \n",
    "> - [Anaconda Snowflake partner page](https://www.anaconda.com/partners/snowflake) "
   ]
  },
  {
   "cell_type": "markdown",
   "metadata": {},
   "source": [
    "<a id=\"Setup1\"></a>\n",
    "\n",
    "### Ambiente de Desarrollo\n",
    "\n",
    "Con soporte para Python 3.8,  3.9.  3.10\n",
    "\n",
    "Simplificado:\n",
    "\n",
    "```bash\n",
    "conda create --name py38_env --override-channels -c https://repo.anaconda.com/pkgs/snowflake python=3.8 numpy pandas\n",
    "```\n",
    "\n",
    "Declarativo:\n",
    "\n",
    "```bash\n",
    "conda env create -f ambiente.yml\n",
    "```\n",
    "\n",
    "> **&#128221; Note:** \n",
    ">  -  [Snowflake Dev Env](https://docs.snowflake.com/en/developer-guide/snowpark/python/setup) \n"
   ]
  },
  {
   "cell_type": "markdown",
   "metadata": {},
   "source": [
    "## Activar ambiennte"
   ]
  },
  {
   "cell_type": "markdown",
   "metadata": {},
   "source": [
    "```bash\n",
    "conda activate snowpark101\n",
    "```"
   ]
  }
 ],
 "metadata": {
  "kernelspec": {
   "display_name": "snowpark101",
   "language": "python",
   "name": "python3"
  },
  "language_info": {
   "name": "python",
   "version": "3.10.13"
  }
 },
 "nbformat": 4,
 "nbformat_minor": 2
}
